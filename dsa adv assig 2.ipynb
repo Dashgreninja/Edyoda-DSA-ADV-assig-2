{
 "cells": [
  {
   "cell_type": "code",
   "execution_count": 1,
   "metadata": {},
   "outputs": [
    {
     "name": "stdout",
     "output_type": "stream",
     "text": [
      "Element is present at index 3\n"
     ]
    }
   ],
   "source": [
    "#Question1\n",
    "\n",
    "def binary_search(arr, x):\n",
    "    low = 0\n",
    "    high = len(arr) - 1\n",
    "    mid = 0\n",
    " \n",
    "    while low <= high:\n",
    " \n",
    "        mid = (high + low) // 2\n",
    " \n",
    "        if arr[mid] < x:\n",
    "            low = mid + 1\n",
    " \n",
    "        elif arr[mid] > x:\n",
    "            high = mid - 1\n",
    " \n",
    "        else:\n",
    "            return mid\n",
    " \n",
    "    return -1\n",
    " \n",
    " \n",
    "arr = [ 2, 3, 4, 10, 40 ]\n",
    "x = 10\n",
    " \n",
    "result = binary_search(arr, x)\n",
    " \n",
    "if result != -1:\n",
    "    print(\"Element is present at index\", str(result))\n",
    "else:\n",
    "    print(\"Element is not present in array\")"
   ]
  },
  {
   "cell_type": "code",
   "execution_count": 2,
   "metadata": {},
   "outputs": [
    {
     "name": "stdout",
     "output_type": "stream",
     "text": [
      "Given array is\n",
      "12 11 13 5 6 7 \n",
      "\n",
      "Sorted array is\n",
      "5 6 7 11 12 13 "
     ]
    }
   ],
   "source": [
    "#Question2 \n",
    "\n",
    "def merge(arr, l, m, r):\n",
    "\tn1 = m - l + 1\n",
    "\tn2 = r - m\n",
    "\n",
    "\tL = [0] * (n1)\n",
    "\tR = [0] * (n2)\n",
    "\n",
    "\tfor i in range(0, n1):\n",
    "\t\tL[i] = arr[l + i]\n",
    "\n",
    "\tfor j in range(0, n2):\n",
    "\t\tR[j] = arr[m + 1 + j]\n",
    "\n",
    "\ti = 0\t \n",
    "\tj = 0\t \n",
    "\tk = l\t \n",
    "\n",
    "\twhile i < n1 and j < n2:\n",
    "\t\tif L[i] <= R[j]:\n",
    "\t\t\tarr[k] = L[i]\n",
    "\t\t\ti += 1\n",
    "\t\telse:\n",
    "\t\t\tarr[k] = R[j]\n",
    "\t\t\tj += 1\n",
    "\t\tk += 1\n",
    "\n",
    "\twhile i < n1:\n",
    "\t\tarr[k] = L[i]\n",
    "\t\ti += 1\n",
    "\t\tk += 1\n",
    "\n",
    "\twhile j < n2:\n",
    "\t\tarr[k] = R[j]\n",
    "\t\tj += 1\n",
    "\t\tk += 1\n",
    "\n",
    "def mergeSort(arr, l, r):\n",
    "\tif l < r:\n",
    "\n",
    "\t\tm = l+(r-l)//2\n",
    "\n",
    "\t\tmergeSort(arr, l, m)\n",
    "\t\tmergeSort(arr, m+1, r)\n",
    "\t\tmerge(arr, l, m, r)\n",
    "\n",
    "\n",
    "arr = [12, 11, 13, 5, 6, 7]\n",
    "n = len(arr)\n",
    "print(\"Given array is\")\n",
    "for i in range(n):\n",
    "\tprint(\"%d\" % arr[i],end=\" \")\n",
    "\n",
    "mergeSort(arr, 0, n-1)\n",
    "print(\"\\n\\nSorted array is\")\n",
    "for i in range(n):\n",
    "\tprint(\"%d\" % arr[i],end=\" \")\n",
    "\n"
   ]
  },
  {
   "cell_type": "code",
   "execution_count": 3,
   "metadata": {},
   "outputs": [
    {
     "name": "stdout",
     "output_type": "stream",
     "text": [
      "Sorted array:\n",
      "1 5 7 8 9 10 "
     ]
    }
   ],
   "source": [
    "#Question3 \n",
    "\n",
    "def partition(array, low, high):\n",
    "     \n",
    "    pivot = array[high]\n",
    " \n",
    "    i = low - 1\n",
    " \n",
    "    for j in range(low, high):\n",
    "        if array[j] <= pivot:\n",
    " \n",
    "            i = i + 1\n",
    "\n",
    "            (array[i], array[j]) = (array[j], array[i])\n",
    " \n",
    "    (array[i + 1], array[high]) = (array[high], array[i + 1])\n",
    " \n",
    "    return i + 1\n",
    " \n",
    "def quicksort(array, low, high):\n",
    "    if low < high:\n",
    "\n",
    "        pi = partition(array, low, high)\n",
    " \n",
    "        quicksort(array, low, pi - 1)\n",
    " \n",
    "        quicksort(array, pi + 1, high)\n",
    " \n",
    "\n",
    "if __name__ == '__main__':\n",
    "    array = [10, 7, 8, 9, 1, 5]\n",
    "    N = len(array)\n",
    " \n",
    "    quicksort(array, 0, N - 1)\n",
    "    print('Sorted array:')\n",
    "    for x in array:\n",
    "        print(x, end=\" \")"
   ]
  },
  {
   "cell_type": "code",
   "execution_count": 4,
   "metadata": {},
   "outputs": [
    {
     "name": "stdout",
     "output_type": "stream",
     "text": [
      " 5\n",
      " 6\n",
      " 11\n",
      " 12\n",
      " 13\n"
     ]
    }
   ],
   "source": [
    "#Question4\n",
    "\n",
    "def insertionSort(arr):\n",
    "     \n",
    "    for i in range(1, len(arr)):\n",
    " \n",
    "        key = arr[i]\n",
    " \n",
    "        j = i-1\n",
    "        while j >= 0 and key < arr[j] :\n",
    "                arr[j + 1] = arr[j]\n",
    "                j -= 1\n",
    "        arr[j + 1] = key\n",
    " \n",
    " \n",
    "arr = [12, 11, 13, 5, 6]\n",
    "insertionSort(arr)\n",
    "for i in range(len(arr)):\n",
    "    print (\"% d\" % arr[i])"
   ]
  },
  {
   "cell_type": "code",
   "execution_count": 7,
   "metadata": {},
   "outputs": [
    {
     "name": "stdout",
     "output_type": "stream",
     "text": [
      "String in sorted order are:  ['bye', 'hey', 'my', 'roy', 'toy']\n"
     ]
    }
   ],
   "source": [
    "#Question 5 \n",
    "\n",
    "def compare(a, b):\n",
    "    return ((a < b) - (a > b))\n",
    "\n",
    "\n",
    "def sort_string(arr):\n",
    "        temp = \"\"\n",
    "        n = len(arr)\n",
    "        for i in range(n-1):\n",
    "            for j in range(i+1, n):\n",
    "                if compare(arr[j], arr[i]) > 0:\n",
    "                    temp = arr[j]\n",
    "                    arr[j] = arr[i]\n",
    "                    arr[i] = temp\n",
    "        print(\"String in sorted order are: \",arr)\n",
    "\n",
    "arr = [\"hey\", \"bye\", \"my\", \"toy\", \"roy\"]\n",
    "\n",
    "sort_string(arr)\n",
    "\n"
   ]
  }
 ],
 "metadata": {
  "kernelspec": {
   "display_name": "Python 3",
   "language": "python",
   "name": "python3"
  },
  "language_info": {
   "codemirror_mode": {
    "name": "ipython",
    "version": 3
   },
   "file_extension": ".py",
   "mimetype": "text/x-python",
   "name": "python",
   "nbconvert_exporter": "python",
   "pygments_lexer": "ipython3",
   "version": "3.11.2"
  },
  "orig_nbformat": 4
 },
 "nbformat": 4,
 "nbformat_minor": 2
}
